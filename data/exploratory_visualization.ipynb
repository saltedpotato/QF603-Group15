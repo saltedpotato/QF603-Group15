{
 "cells": [
  {
   "cell_type": "markdown",
   "id": "dee8444f",
   "metadata": {},
   "source": [
    "# Financial Data Exploratory Visualization\n",
    "This notebook loads and visualizes various financial datasets using Plotly."
   ]
  },
  {
   "cell_type": "code",
   "execution_count": null,
   "id": "0212d175",
   "metadata": {},
   "outputs": [],
   "source": [
    "# Import Required Libraries\n",
    "import pandas as pd\n",
    "import plotly.graph_objects as go\n",
    "import plotly.express as px\n",
    "from plotly.subplots import make_subplots\n",
    "import numpy as np\n",
    "import warnings\n",
    "warnings.filterwarnings('ignore')\n",
    "\n",
    "# Set data directory\n",
    "data_dir = './'\n",
    "\n",
    "# Load all datasets\n",
    "df_tlt = pd.read_csv(data_dir + 'TLT_2007-01-01_to_2025-08-30.csv', parse_dates=['Date'])\n",
    "df_ust10y = pd.read_csv(data_dir + 'UST10Y.csv', parse_dates=['Date'])\n",
    "df_vix = pd.read_csv(data_dir + 'VIX.csv', parse_dates=['Date'])\n",
    "df_breakeven = pd.read_csv(data_dir + 'Breakeven10Y.csv', parse_dates=['Date'])\n",
    "df_fedfunds = pd.read_csv(data_dir + 'FedFunds.csv', parse_dates=['Date'])\n",
    "df_termspread = pd.read_csv(data_dir + 'TermSpread_10Y_2Y.csv', parse_dates=['Date'])\n",
    "\n",
    "# Load MOVE with proper handling\n",
    "df_move = pd.read_csv(data_dir + 'MOVE_index.csv', parse_dates=['Date'], skiprows=[1])\n",
    "\n",
    "df_nfci = pd.read_csv(data_dir + 'NFCI.csv', parse_dates=['Date'])\n",
    "df_hyoas = pd.read_csv(data_dir + 'HYOAS.csv', parse_dates=['Date'])\n",
    "\n",
    "print(\"Datasets loaded successfully!\")\n",
    "print(f\"TLT: {len(df_tlt)} rows, Date range: {df_tlt['Date'].min()} to {df_tlt['Date'].max()}\")\n",
    "print(f\"UST10Y: {len(df_ust10y)} rows, Date range: {df_ust10y['Date'].min()} to {df_ust10y['Date'].max()}\")\n",
    "print(f\"VIX: {len(df_vix)} rows\")\n",
    "print(f\"MOVE: {len(df_move)} rows\")\n",
    "print(f\"NFCI: {len(df_nfci)} rows\")"
   ]
  },
  {
   "cell_type": "markdown",
   "id": "a440f119",
   "metadata": {},
   "source": [
    "## 1. TLT (Treasury Bond ETF) Price and Realized Volatility"
   ]
  },
  {
   "cell_type": "code",
   "execution_count": null,
   "id": "c49b05b1",
   "metadata": {},
   "outputs": [],
   "source": [
    "fig = make_subplots(\n",
    "    rows=2, cols=1,\n",
    "    subplot_titles=(\"TLT Price Over Time\", \"TLT Realized Volatility (20-day)\"),\n",
    "    specs=[[{\"secondary_y\": False}], [{\"secondary_y\": False}]],\n",
    "    vertical_spacing=0.12\n",
    ")\n",
    "\n",
    "# Price subplot\n",
    "fig.add_trace(\n",
    "    go.Scatter(x=df_tlt['Date'], y=df_tlt['Price'], \n",
    "               name='TLT Price', line=dict(color='steelblue', width=1.5),\n",
    "               hovertemplate='%{x|%Y-%m-%d}<br>Price: $%{y:.2f}<extra></extra>'),\n",
    "    row=1, col=1\n",
    ")\n",
    "\n",
    "# Realized Vol subplot\n",
    "vol_clean = df_tlt['Realized_Vol'].dropna()\n",
    "fig.add_trace(\n",
    "    go.Scatter(x=vol_clean.index.map(lambda i: df_tlt.loc[i, 'Date']), y=vol_clean,\n",
    "               name='Realized Vol', line=dict(color='crimson', width=1.5),\n",
    "               hovertemplate='%{x|%Y-%m-%d}<br>Realized Vol: %{y:.4f}<extra></extra>'),\n",
    "    row=2, col=1\n",
    ")\n",
    "\n",
    "fig.update_xaxes(title_text=\"Date\", row=2, col=1)\n",
    "fig.update_yaxes(title_text=\"Price ($)\", row=1, col=1)\n",
    "fig.update_yaxes(title_text=\"Volatility\", row=2, col=1)\n",
    "fig.update_layout(height=700, title_text=\"TLT Performance Analysis\", hovermode='x unified')\n",
    "fig.show()"
   ]
  },
  {
   "cell_type": "markdown",
   "id": "08c01acd",
   "metadata": {},
   "source": [
    "## 2. Interest Rates: UST 10Y vs Fed Funds"
   ]
  },
  {
   "cell_type": "code",
   "execution_count": null,
   "id": "374b950c",
   "metadata": {},
   "outputs": [],
   "source": [
    "fig = go.Figure()\n",
    "\n",
    "# Remove rows with empty values\n",
    "ust_clean = df_ust10y.dropna(subset=['UST10Y'])\n",
    "ff_clean = df_fedfunds.dropna(subset=['FedFunds'])\n",
    "\n",
    "fig.add_trace(go.Scatter(\n",
    "    x=ust_clean['Date'], y=ust_clean['UST10Y'],\n",
    "    name='10Y US Treasury Yield',\n",
    "    line=dict(color='darkblue', width=2),\n",
    "    hovertemplate='%{x|%Y-%m-%d}<br>UST 10Y: %{y:.2f}%<extra></extra>'\n",
    "))\n",
    "\n",
    "fig.add_trace(go.Scatter(\n",
    "    x=ff_clean['Date'], y=ff_clean['FedFunds'],\n",
    "    name='Fed Funds Rate',\n",
    "    line=dict(color='orange', width=2),\n",
    "    hovertemplate='%{x|%Y-%m-%d}<br>Fed Funds: %{y:.2f}%<extra></extra>'\n",
    "))\n",
    "\n",
    "fig.update_layout(\n",
    "    title='US Interest Rates: 10Y Treasury vs Fed Funds Rate',\n",
    "    xaxis_title='Date',\n",
    "    yaxis_title='Rate (%)',\n",
    "    height=500,\n",
    "    hovermode='x unified',\n",
    "    template='plotly_white'\n",
    ")\n",
    "fig.show()"
   ]
  },
  {
   "cell_type": "markdown",
   "id": "9835c707",
   "metadata": {},
   "source": [
    "## 3. Term Spread (10Y - 2Y) Analysis"
   ]
  },
  {
   "cell_type": "code",
   "execution_count": null,
   "id": "6ae90422",
   "metadata": {},
   "outputs": [],
   "source": [
    "ts_clean = df_termspread.dropna(subset=['TermSpread_10Y_2Y'])\n",
    "\n",
    "fig = go.Figure()\n",
    "\n",
    "fig.add_trace(go.Scatter(\n",
    "    x=ts_clean['Date'], y=ts_clean['TermSpread_10Y_2Y'],\n",
    "    name='Term Spread',\n",
    "    fill='tozeroy',\n",
    "    line=dict(color='darkgreen', width=2),\n",
    "    hovertemplate='%{x|%Y-%m-%d}<br>Spread: %{y:.2f}%<extra></extra>'\n",
    "))\n",
    "\n",
    "# Add zero line\n",
    "fig.add_hline(y=0, line_dash=\"dash\", line_color=\"red\", annotation_text=\"Zero Line\")\n",
    "\n",
    "fig.update_layout(\n",
    "    title='Term Spread (10Y - 2Y Treasury)',\n",
    "    xaxis_title='Date',\n",
    "    yaxis_title='Spread (%)',\n",
    "    height=500,\n",
    "    hovermode='x unified',\n",
    "    template='plotly_white'\n",
    ")\n",
    "fig.show()"
   ]
  },
  {
   "cell_type": "markdown",
   "id": "9ba313c6",
   "metadata": {},
   "source": [
    "## 4. Volatility Indicators: VIX vs MOVE Index"
   ]
  },
  {
   "cell_type": "code",
   "execution_count": null,
   "id": "bb94c56a",
   "metadata": {},
   "outputs": [],
   "source": [
    "vix_clean = df_vix.dropna(subset=['VIX'])\n",
    "move_clean = df_move.dropna(subset=['MOVE_Close'])\n",
    "\n",
    "# Create secondary axis for MOVE (different scales)\n",
    "fig = make_subplots(specs=[[{\"secondary_y\": True}]])\n",
    "\n",
    "fig.add_trace(\n",
    "    go.Scatter(x=vix_clean['Date'], y=vix_clean['VIX'],\n",
    "               name='VIX (Equity Volatility)',\n",
    "               line=dict(color='red', width=2),\n",
    "               hovertemplate='%{x|%Y-%m-%d}<br>VIX: %{y:.2f}<extra></extra>'),\n",
    "    secondary_y=False,\n",
    ")\n",
    "\n",
    "fig.add_trace(\n",
    "    go.Scatter(x=move_clean['Date'], y=move_clean['MOVE_Close'],\n",
    "               name='MOVE (Bond Volatility)',\n",
    "               line=dict(color='purple', width=2),\n",
    "               hovertemplate='%{x|%Y-%m-%d}<br>MOVE: %{y:.2f}<extra></extra>'),\n",
    "    secondary_y=True,\n",
    ")\n",
    "\n",
    "fig.update_yaxes(title_text=\"VIX\", secondary_y=False)\n",
    "fig.update_yaxes(title_text=\"MOVE Index\", secondary_y=True)\n",
    "fig.update_xaxes(title_text=\"Date\")\n",
    "\n",
    "fig.update_layout(\n",
    "    title='Volatility Indicators: VIX vs MOVE Index',\n",
    "    height=500,\n",
    "    hovermode='x unified',\n",
    "    template='plotly_white'\n",
    ")\n",
    "fig.show()"
   ]
  },
  {
   "cell_type": "markdown",
   "id": "0bee2202",
   "metadata": {},
   "source": [
    "## 5. Inflation Expectations: Breakeven Inflation Rate"
   ]
  },
  {
   "cell_type": "code",
   "execution_count": null,
   "id": "e22de4da",
   "metadata": {},
   "outputs": [],
   "source": [
    "be_clean = df_breakeven.dropna(subset=['Breakeven10Y'])\n",
    "\n",
    "fig = go.Figure()\n",
    "\n",
    "fig.add_trace(go.Scatter(\n",
    "    x=be_clean['Date'], y=be_clean['Breakeven10Y'],\n",
    "    name='10Y Breakeven Inflation',\n",
    "    fill='tozeroy',\n",
    "    line=dict(color='teal', width=2),\n",
    "    hovertemplate='%{x|%Y-%m-%d}<br>Breakeven: %{y:.2f}%<extra></extra>'\n",
    "))\n",
    "\n",
    "fig.update_layout(\n",
    "    title='10-Year Breakeven Inflation Rate',\n",
    "    xaxis_title='Date',\n",
    "    yaxis_title='Inflation Expectation (%)',\n",
    "    height=500,\n",
    "    hovermode='x unified',\n",
    "    template='plotly_white'\n",
    ")\n",
    "fig.show()"
   ]
  },
  {
   "cell_type": "markdown",
   "id": "1dcf46cb",
   "metadata": {},
   "source": [
    "## 6. Credit Risk: High Yield OAS"
   ]
  },
  {
   "cell_type": "code",
   "execution_count": null,
   "id": "2b11da33",
   "metadata": {},
   "outputs": [],
   "source": [
    "hyoas_clean = df_hyoas.dropna(subset=['HYOAS'])\n",
    "\n",
    "fig = go.Figure()\n",
    "\n",
    "fig.add_trace(go.Scatter(\n",
    "    x=hyoas_clean['Date'], y=hyoas_clean['HYOAS'],\n",
    "    name='HY OAS',\n",
    "    fill='tozeroy',\n",
    "    line=dict(color='darkred', width=2),\n",
    "    hovertemplate='%{x|%Y-%m-%d}<br>HY OAS: %{y:.2f} bps<extra></extra>'\n",
    "))\n",
    "\n",
    "fig.update_layout(\n",
    "    title='High Yield Option-Adjusted Spread (OAS)',\n",
    "    xaxis_title='Date',\n",
    "    yaxis_title='OAS (basis points)',\n",
    "    height=500,\n",
    "    hovermode='x unified',\n",
    "    template='plotly_white'\n",
    ")\n",
    "fig.show()"
   ]
  },
  {
   "cell_type": "markdown",
   "id": "6fca9659",
   "metadata": {},
   "source": [
    "## 7. Financial Conditions Index (NFCI)"
   ]
  },
  {
   "cell_type": "code",
   "execution_count": null,
   "id": "adec7a45",
   "metadata": {},
   "outputs": [],
   "source": [
    "nfci_clean = df_nfci.dropna(subset=['NFCI'])\n",
    "\n",
    "fig = go.Figure()\n",
    "\n",
    "fig.add_trace(go.Scatter(\n",
    "    x=nfci_clean['Date'], y=nfci_clean['NFCI'],\n",
    "    name='NFCI',\n",
    "    fill='tozeroy',\n",
    "    line=dict(color='navy', width=2),\n",
    "    hovertemplate='%{x|%Y-%m-%d}<br>NFCI: %{y:.5f}<extra></extra>'\n",
    "))\n",
    "\n",
    "fig.add_hline(y=0, line_dash=\"dash\", line_color=\"gray\", annotation_text=\"Zero (Normal Conditions)\")\n",
    "\n",
    "fig.update_layout(\n",
    "    title='Chicago Fed National Financial Conditions Index (NFCI)',\n",
    "    xaxis_title='Date',\n",
    "    yaxis_title='NFCI Score',\n",
    "    height=500,\n",
    "    hovermode='x unified',\n",
    "    template='plotly_white',\n",
    "    annotations=[dict(text=\"Positive values indicate tighter financial conditions\", xref=\"paper\", yref=\"paper\",\n",
    "                      x=0.02, y=0.98, showarrow=False, xanchor='left', yanchor='top')]\n",
    ")\n",
    "fig.show()"
   ]
  },
  {
   "cell_type": "markdown",
   "id": "64820ec7",
   "metadata": {},
   "source": [
    "## 8. Comprehensive Multi-Asset Dashboard"
   ]
  },
  {
   "cell_type": "code",
   "execution_count": null,
   "id": "d341ebcc",
   "metadata": {},
   "outputs": [],
   "source": [
    "# Normalize data for comparison\n",
    "ust_norm = (ust_clean['UST10Y'].values - ust_clean['UST10Y'].mean()) / ust_clean['UST10Y'].std()\n",
    "vix_norm = (vix_clean['VIX'].values - vix_clean['VIX'].mean()) / vix_clean['VIX'].std()\n",
    "move_norm = (move_clean['MOVE_Close'].values - move_clean['MOVE_Close'].mean()) / move_clean['MOVE_Close'].std()\n",
    "be_norm = (be_clean['Breakeven10Y'].values - be_clean['Breakeven10Y'].mean()) / be_clean['Breakeven10Y'].std()\n",
    "\n",
    "fig = go.Figure()\n",
    "\n",
    "fig.add_trace(go.Scatter(x=ust_clean['Date'], y=ust_norm, name='UST 10Y (normalized)', line=dict(width=1.5)))\n",
    "fig.add_trace(go.Scatter(x=vix_clean['Date'], y=vix_norm, name='VIX (normalized)', line=dict(width=1.5)))\n",
    "fig.add_trace(go.Scatter(x=move_clean['Date'], y=move_norm, name='MOVE (normalized)', line=dict(width=1.5)))\n",
    "fig.add_trace(go.Scatter(x=be_clean['Date'], y=be_norm, name='Breakeven 10Y (normalized)', line=dict(width=1.5)))\n",
    "\n",
    "fig.add_hline(y=0, line_dash=\"dash\", line_color=\"gray\", annotation_text=\"Mean\")\n",
    "\n",
    "fig.update_layout(\n",
    "    title='Normalized Financial Indicators Comparison',\n",
    "    xaxis_title='Date',\n",
    "    yaxis_title='Normalized Value (Z-scores)',\n",
    "    height=600,\n",
    "    hovermode='x unified',\n",
    "    template='plotly_white'\n",
    ")\n",
    "fig.show()"
   ]
  },
  {
   "cell_type": "markdown",
   "id": "25853f2c",
   "metadata": {},
   "source": [
    "## 9. Data Quality Summary"
   ]
  },
  {
   "cell_type": "code",
   "execution_count": null,
   "id": "b89f37ef",
   "metadata": {},
   "outputs": [],
   "source": [
    "# Create a data quality summary\n",
    "summary_data = {\n",
    "    'Dataset': ['TLT Price', 'UST 10Y', 'VIX', 'Breakeven 10Y', 'Fed Funds', 'Term Spread', 'MOVE', 'NFCI', 'HY OAS'],\n",
    "    'Total Rows': [len(df_tlt), len(df_ust10y), len(df_vix), len(df_breakeven), len(df_fedfunds), \n",
    "                   len(df_termspread), len(df_move), len(df_nfci), len(df_hyoas)],\n",
    "    'Non-Null': [df_tlt['Price'].notna().sum(), df_ust10y['UST10Y'].notna().sum(), df_vix['VIX'].notna().sum(),\n",
    "                 df_breakeven['Breakeven10Y'].notna().sum(), df_fedfunds['FedFunds'].notna().sum(),\n",
    "                 df_termspread['TermSpread_10Y_2Y'].notna().sum(), df_move['MOVE_Close'].notna().sum(),\n",
    "                 df_nfci['NFCI'].notna().sum(), df_hyoas['HYOAS'].notna().sum()],\n",
    "    'Missing %': [\n",
    "        (1 - df_tlt['Price'].notna().sum() / len(df_tlt)) * 100,\n",
    "        (1 - df_ust10y['UST10Y'].notna().sum() / len(df_ust10y)) * 100,\n",
    "        (1 - df_vix['VIX'].notna().sum() / len(df_vix)) * 100,\n",
    "        (1 - df_breakeven['Breakeven10Y'].notna().sum() / len(df_breakeven)) * 100,\n",
    "        (1 - df_fedfunds['FedFunds'].notna().sum() / len(df_fedfunds)) * 100,\n",
    "        (1 - df_termspread['TermSpread_10Y_2Y'].notna().sum() / len(df_termspread)) * 100,\n",
    "        (1 - df_move['MOVE_Close'].notna().sum() / len(df_move)) * 100,\n",
    "        (1 - df_nfci['NFCI'].notna().sum() / len(df_nfci)) * 100,\n",
    "        (1 - df_hyoas['HYOAS'].notna().sum() / len(df_hyoas)) * 100\n",
    "    ]\n",
    "}\n",
    "\n",
    "summary_df = pd.DataFrame(summary_data)\n",
    "print(\"\\n=== DATA QUALITY SUMMARY ===\")\n",
    "print(summary_df.to_string(index=False))\n",
    "\n",
    "# Create a visual summary\n",
    "fig = go.Figure(data=[\n",
    "    go.Bar(x=summary_df['Dataset'], y=summary_df['Missing %'], name='Missing %', marker_color='lightcoral')\n",
    "])\n",
    "\n",
    "fig.update_layout(\n",
    "    title='Data Completeness by Dataset',\n",
    "    xaxis_title='Dataset',\n",
    "    yaxis_title='Missing Data (%)',\n",
    "    height=400,\n",
    "    template='plotly_white'\n",
    ")\n",
    "fig.show()"
   ]
  },
  {
   "cell_type": "markdown",
   "id": "b94d6d2f",
   "metadata": {},
   "source": [
    "## 10. Statistical Summary"
   ]
  },
  {
   "cell_type": "code",
   "execution_count": null,
   "id": "8b359951",
   "metadata": {},
   "outputs": [],
   "source": [
    "print(\"\\n=== STATISTICAL SUMMARY ===\")\n",
    "print(\"\\nTLT Price:\")\n",
    "print(df_tlt['Price'].describe())\n",
    "\n",
    "print(\"\\nUST 10Y Yield:\")\n",
    "print(df_ust10y['UST10Y'].describe())\n",
    "\n",
    "print(\"\\nVIX:\")\n",
    "print(df_vix['VIX'].describe())\n",
    "\n",
    "print(\"\\nMOVE Index:\")\n",
    "print(df_move['MOVE_Close'].describe())\n",
    "\n",
    "print(\"\\nTerm Spread:\")\n",
    "print(df_termspread['TermSpread_10Y_2Y'].describe())\n",
    "\n",
    "print(\"\\nHY OAS:\")\n",
    "print(df_hyoas['HYOAS'].describe())"
   ]
  }
 ],
 "metadata": {
  "kernelspec": {
   "display_name": "ibkr",
   "language": "python",
   "name": "python3"
  },
  "language_info": {
   "codemirror_mode": {
    "name": "ipython",
    "version": 3
   },
   "file_extension": ".py",
   "mimetype": "text/x-python",
   "name": "python",
   "nbconvert_exporter": "python",
   "pygments_lexer": "ipython3",
   "version": "3.12.4"
  }
 },
 "nbformat": 4,
 "nbformat_minor": 5
}
